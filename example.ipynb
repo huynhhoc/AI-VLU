{
 "cells": [
  {
   "cell_type": "code",
   "execution_count": 1,
   "metadata": {},
   "outputs": [
    {
     "name": "stdout",
     "output_type": "stream",
     "text": [
      "Sparse Matrix form of test data : \n",
      "\n",
      "[[0 1 1 1]\n",
      " [0 1 0 2]]\n"
     ]
    }
   ],
   "source": [
    "#import count vectorize and tfidf vectorise\n",
    "from sklearn.feature_extraction.text import CountVectorizer, TfidfVectorizer\n",
    "train = ('The sky is blue.','The sun is bright.')\n",
    "test = ('The sun in the sky is bright', 'We can see the shining sun, the bright sun.')\n",
    "# instantiate the vectorizer object\n",
    "# use analyzer is word and stop_words is english which are responsible for remove stop words and create word vocabulary\n",
    "countvectorizer = CountVectorizer(analyzer='word' , stop_words='english')\n",
    "terms = countvectorizer.fit_transform(train) # Build Vocabulary\n",
    "term_vectors  = countvectorizer.transform(test) #Read from Vocabulary to transform matrix\n",
    "print(\"Sparse Matrix form of test data : \\n\")\n",
    "print(term_vectors.todense())"
   ]
  }
 ],
 "metadata": {
  "kernelspec": {
   "display_name": "Python 3",
   "language": "python",
   "name": "python3"
  },
  "language_info": {
   "codemirror_mode": {
    "name": "ipython",
    "version": 3
   },
   "file_extension": ".py",
   "mimetype": "text/x-python",
   "name": "python",
   "nbconvert_exporter": "python",
   "pygments_lexer": "ipython3",
   "version": "3.8.5"
  }
 },
 "nbformat": 4,
 "nbformat_minor": 4
}
