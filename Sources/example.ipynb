{
  "nbformat": 4,
  "nbformat_minor": 0,
  "metadata": {
    "kernelspec": {
      "display_name": "Python 3",
      "language": "python",
      "name": "python3"
    },
    "language_info": {
      "codemirror_mode": {
        "name": "ipython",
        "version": 3
      },
      "file_extension": ".py",
      "mimetype": "text/x-python",
      "name": "python",
      "nbconvert_exporter": "python",
      "pygments_lexer": "ipython3",
      "version": "3.8.5"
    },
    "colab": {
      "name": "example.ipynb",
      "provenance": []
    }
  },
  "cells": [
    {
      "cell_type": "code",
      "metadata": {
        "id": "FgG5hvWWkxcG",
        "outputId": "01acf331-cba3-41e3-a8dd-2c08c6a64e8c",
        "colab": {
          "base_uri": "https://localhost:8080/"
        }
      },
      "source": [
        "#import count vectorize and tfidf vectorise\n",
        "from sklearn.feature_extraction.text import CountVectorizer, TfidfVectorizer\n",
        "#for the sentence, make sure all words are lowercase or you will run into error. for simplicity, I just made the same sentence all lowercase\n",
        "\n",
        "firstV= 'the car is driven on the road'\n",
        "secondV= 'the truck is driven on the highway'\n",
        "\n",
        "#calling the TfidfVectorizer\n",
        "vectorize= TfidfVectorizer()\n",
        "#fitting the model and passing our sentences right away:\n",
        "response= vectorize.fit_transform([firstV,secondV])\n",
        "print(response)"
      ],
      "execution_count": 1,
      "outputs": [
        {
          "output_type": "stream",
          "text": [
            "  (0, 5)\t0.42471718586982765\n",
            "  (0, 4)\t0.30218977576862155\n",
            "  (0, 1)\t0.30218977576862155\n",
            "  (0, 3)\t0.30218977576862155\n",
            "  (0, 0)\t0.42471718586982765\n",
            "  (0, 6)\t0.6043795515372431\n",
            "  (1, 2)\t0.42471718586982765\n",
            "  (1, 7)\t0.42471718586982765\n",
            "  (1, 4)\t0.30218977576862155\n",
            "  (1, 1)\t0.30218977576862155\n",
            "  (1, 3)\t0.30218977576862155\n",
            "  (1, 6)\t0.6043795515372431\n"
          ],
          "name": "stdout"
        }
      ]
    },
    {
      "cell_type": "code",
      "metadata": {
        "id": "5JH4EOotosHy"
      },
      "source": [
        "If you match up the above numbers with their respective location, you will see they match up with the build from scratch method. \n",
        "In the first column, 0 is the first sentence and 1 is the second sentence"
      ],
      "execution_count": null,
      "outputs": []
    },
    {
      "cell_type": "markdown",
      "metadata": {
        "id": "PSdnx6z1otpI"
      },
      "source": [
        ""
      ]
    }
  ]
}