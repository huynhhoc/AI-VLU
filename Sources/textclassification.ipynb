{
 "cells": [
  {
   "cell_type": "code",
   "execution_count": 1,
   "metadata": {},
   "outputs": [],
   "source": [
    "document = [\"This is the most beautiful place in the world.\", \"This man has more skills to show in cricket than any other game.\", \"Hi there! how was your ladakh trip last month?\", \"There was a player who had scored 200+ runs in single cricket innings in his career.\", \"I have got the opportunity to travel to Paris next year for my internship.\", \"May be he is better than you in batting but you are much better than him in bowling.\", \"That was really a great day for me when I was there at Lavasa for the whole night.\", \"That’s exactly I wanted to become, a highest ratting batsmen ever with top scores.\", \"Does it really matter wether you go to Thailand or Goa, its just you have spend your holidays.\", \"Why don’t you go to Switzerland next year for your 25th Wedding anniversary?\", \"Travel is fatal to prejudice, bigotry, and narrow mindedness., and many of our people need it sorely on these accounts.\", \"Stop worrying about the potholes in the road and enjoy the journey.\", \"No cricket team in the world depends on one or two players. The team always plays to win.\", \"Cricket is a team game. If you want fame for yourself, go play an individual game.\", \"Because in the end, you won’t remember the time you spent working in the office or mowing your lawn. Climb that goddamn mountain.\", \"Isn’t cricket supposed to be a team sport? I feel people should decide first whether cricket is a team game or an individual sport.\"]"
   ]
  },
  {
   "cell_type": "code",
   "execution_count": 2,
   "metadata": {},
   "outputs": [],
   "source": [
    "from sklearn.feature_extraction.text import TfidfVectorizer\n",
    "from sklearn.cluster import KMeans\n",
    "import numpy as np\n",
    "import pandas as pd\n",
    "#https://towardsdatascience.com/applying-machine-learning-to-classify-an-unsupervised-text-document-e7bb6265f52"
   ]
  },
  {
   "cell_type": "code",
   "execution_count": 3,
   "metadata": {},
   "outputs": [],
   "source": [
    "vectorizer = TfidfVectorizer(stop_words='english')\n",
    "X = vectorizer.fit_transform(document)"
   ]
  },
  {
   "cell_type": "code",
   "execution_count": 4,
   "metadata": {},
   "outputs": [
    {
     "data": {
      "text/plain": [
       "KMeans(max_iter=100, n_clusters=3, n_init=1)"
      ]
     },
     "execution_count": 4,
     "metadata": {},
     "output_type": "execute_result"
    }
   ],
   "source": [
    "true_k = 3\n",
    "model = KMeans(n_clusters=true_k, init='k-means++', max_iter=100, n_init=1)\n",
    "model.fit(X)"
   ]
  },
  {
   "cell_type": "code",
   "execution_count": 5,
   "metadata": {},
   "outputs": [
    {
     "name": "stdout",
     "output_type": "stream",
     "text": [
      "['200', '25th', 'accounts', 'anniversary', 'batsmen', 'batting', 'beautiful', 'better', 'bigotry', 'bowling', 'career', 'climb', 'cricket', 'day', 'decide', 'depends', 'does', 'don', 'end', 'enjoy', 'exactly', 'fame', 'fatal', 'feel', 'game', 'goa', 'goddamn', 'got', 'great', 'hi', 'highest', 'holidays', 'individual', 'innings', 'internship', 'isn', 'journey', 'just', 'ladakh', 'lavasa', 'lawn', 'man', 'matter', 'mindedness', 'month', 'mountain', 'mowing', 'narrow', 'need', 'night', 'office', 'opportunity', 'paris', 'people', 'place', 'play', 'player', 'players', 'plays', 'potholes', 'prejudice', 'ratting', 'really', 'remember', 'road', 'runs', 'scored', 'scores', 'single', 'skills', 'sorely', 'spend', 'spent', 'sport', 'stop', 'supposed', 'switzerland', 'team', 'thailand', 'time', 'travel', 'trip', 'want', 'wanted', 'wedding', 'wether', 'win', 'won', 'working', 'world', 'worrying', 'year']\n"
     ]
    }
   ],
   "source": [
    "order_centroids = model.cluster_centers_.argsort()[:, ::-1]\n",
    "terms = vectorizer.get_feature_names()\n",
    "print(terms)"
   ]
  },
  {
   "cell_type": "code",
   "execution_count": 6,
   "metadata": {},
   "outputs": [
    {
     "name": "stdout",
     "output_type": "stream",
     "text": [
      "Cluster 0:\n",
      " scores\n",
      " stop\n",
      " worrying\n",
      " ratting\n",
      " batsmen\n",
      " exactly\n",
      " journey\n",
      " wanted\n",
      " enjoy\n",
      " potholes\n",
      " road\n",
      " highest\n",
      " game\n",
      " goa\n",
      " goddamn\n",
      "Cluster 1:\n",
      " cricket\n",
      " team\n",
      " game\n",
      " man\n",
      " skills\n",
      " individual\n",
      " sport\n",
      " fame\n",
      " want\n",
      " play\n",
      " runs\n",
      " scored\n",
      " single\n",
      " career\n",
      " 200\n",
      "Cluster 2:\n",
      " better\n",
      " year\n",
      " really\n",
      " travel\n",
      " place\n",
      " beautiful\n",
      " world\n",
      " trip\n",
      " hi\n",
      " month\n",
      " ladakh\n",
      " day\n",
      " night\n",
      " lavasa\n",
      " great\n"
     ]
    }
   ],
   "source": [
    "for i in range(true_k):\n",
    " print(\"Cluster %d:\" % i),\n",
    " for ind in order_centroids[i, :15]:\n",
    "     print(\" %s\" % terms[ind])"
   ]
  },
  {
   "cell_type": "code",
   "execution_count": 7,
   "metadata": {},
   "outputs": [
    {
     "name": "stdout",
     "output_type": "stream",
     "text": [
      "\n",
      "\n",
      "Prediction\n",
      "[1]\n"
     ]
    }
   ],
   "source": [
    "print(\"\\n\")\n",
    "print(\"Prediction\")\n",
    "Y = vectorizer.transform([\"Nothing is easy in cricket. Maybe when you watch it on TV, it looks easy. But it is not. You have to use your brain and time the ball.\"])\n",
    "predicted = model.predict(Y)\n",
    "print(predicted)"
   ]
  },
  {
   "cell_type": "markdown",
   "metadata": {},
   "source": [
    "https://www.kaggle.com/dfoly1/k-means-clustering-from-scratch"
   ]
  },
  {
   "cell_type": "code",
   "execution_count": 8,
   "metadata": {},
   "outputs": [],
   "source": [
    "def get_top_features_cluster(tf_idf_array, prediction, n_feats):\n",
    "    labels = np.unique(prediction)\n",
    "    dfs = []\n",
    "    for label in labels:\n",
    "        id_temp = np.where(prediction==label) # indices for each cluster\n",
    "        x_means = np.mean(tf_idf_array[id_temp], axis = 0) # returns average score across cluster\n",
    "        sorted_means = np.argsort(x_means)[::-1][:n_feats] # indices with top 20 scores\n",
    "        features = vectorizer.get_feature_names()\n",
    "        best_features = [(features[i], x_means[i]) for i in sorted_means]\n",
    "        df = pd.DataFrame(best_features, columns = ['features', 'score'])\n",
    "        dfs.append(df)\n",
    "    return dfs"
   ]
  },
  {
   "cell_type": "code",
   "execution_count": 12,
   "metadata": {},
   "outputs": [
    {
     "name": "stdout",
     "output_type": "stream",
     "text": [
      "[      features     score\n",
      "0        place  0.602102\n",
      "1    beautiful  0.602102\n",
      "2        world  0.524354\n",
      "3   internship  0.000000\n",
      "4          goa  0.000000\n",
      "5      goddamn  0.000000\n",
      "6          got  0.000000\n",
      "7        great  0.000000\n",
      "8           hi  0.000000\n",
      "9      highest  0.000000\n",
      "10    holidays  0.000000\n",
      "11  individual  0.000000\n",
      "12     innings  0.000000\n",
      "13        year  0.000000\n",
      "14        feel  0.000000\n",
      "15         isn  0.000000\n",
      "16     journey  0.000000\n",
      "17        just  0.000000\n",
      "18      ladakh  0.000000\n",
      "19      lavasa  0.000000]\n"
     ]
    }
   ],
   "source": [
    "from sklearn.preprocessing import normalize\n",
    "tf_idf_norm = normalize(X)\n",
    "tf_idf_array = tf_idf_norm.toarray()\n",
    "dfs = get_top_features_cluster(tf_idf_array, predicted, 20)\n",
    "print (dfs)"
   ]
  },
  {
   "cell_type": "code",
   "execution_count": 13,
   "metadata": {},
   "outputs": [
    {
     "data": {
      "text/plain": [
       "<matplotlib.axes._subplots.AxesSubplot at 0x2241eb009d0>"
      ]
     },
     "execution_count": 13,
     "metadata": {},
     "output_type": "execute_result"
    },
    {
     "data": {
      "image/png": "[encoded data removed]",
      "text/plain": [
       "<Figure size 576x432 with 1 Axes>"
      ]
     },
     "metadata": {
      "needs_background": "light"
     },
     "output_type": "display_data"
    }
   ],
   "source": [
    "import seaborn as sns\n",
    "import matplotlib.pyplot as plt\n",
    "plt.figure(figsize=(8,6))\n",
    "sns.barplot(x = 'score' , y = 'features', orient = 'h' , data = dfs[0][:15])"
   ]
  },
  {
   "cell_type": "code",
   "execution_count": 14,
   "metadata": {},
   "outputs": [
    {
     "ename": "IndexError",
     "evalue": "list index out of range",
     "output_type": "error",
     "traceback": [
      "\u001b[1;31m---------------------------------------------------------------------------\u001b[0m",
      "\u001b[1;31mIndexError\u001b[0m                                Traceback (most recent call last)",
      "\u001b[1;32m<ipython-input-14-4d49028e0012>\u001b[0m in \u001b[0;36m<module>\u001b[1;34m\u001b[0m\n\u001b[0;32m      1\u001b[0m \u001b[0mplt\u001b[0m\u001b[1;33m.\u001b[0m\u001b[0mfigure\u001b[0m\u001b[1;33m(\u001b[0m\u001b[0mfigsize\u001b[0m\u001b[1;33m=\u001b[0m\u001b[1;33m(\u001b[0m\u001b[1;36m8\u001b[0m\u001b[1;33m,\u001b[0m\u001b[1;36m6\u001b[0m\u001b[1;33m)\u001b[0m\u001b[1;33m)\u001b[0m\u001b[1;33m\u001b[0m\u001b[1;33m\u001b[0m\u001b[0m\n\u001b[1;32m----> 2\u001b[1;33m \u001b[0msns\u001b[0m\u001b[1;33m.\u001b[0m\u001b[0mbarplot\u001b[0m\u001b[1;33m(\u001b[0m\u001b[0mx\u001b[0m \u001b[1;33m=\u001b[0m \u001b[1;34m'score'\u001b[0m \u001b[1;33m,\u001b[0m \u001b[0my\u001b[0m \u001b[1;33m=\u001b[0m \u001b[1;34m'features'\u001b[0m\u001b[1;33m,\u001b[0m \u001b[0morient\u001b[0m \u001b[1;33m=\u001b[0m \u001b[1;34m'h'\u001b[0m \u001b[1;33m,\u001b[0m \u001b[0mdata\u001b[0m \u001b[1;33m=\u001b[0m \u001b[0mdfs\u001b[0m\u001b[1;33m[\u001b[0m\u001b[1;36m1\u001b[0m\u001b[1;33m]\u001b[0m\u001b[1;33m[\u001b[0m\u001b[1;33m:\u001b[0m\u001b[1;36m15\u001b[0m\u001b[1;33m]\u001b[0m\u001b[1;33m)\u001b[0m\u001b[1;33m\u001b[0m\u001b[1;33m\u001b[0m\u001b[0m\n\u001b[0m",
      "\u001b[1;31mIndexError\u001b[0m: list index out of range"
     ]
    },
    {
     "data": {
      "text/plain": [
       "<Figure size 576x432 with 0 Axes>"
      ]
     },
     "metadata": {},
     "output_type": "display_data"
    }
   ],
   "source": [
    "plt.figure(figsize=(8,6))\n",
    "sns.barplot(x = 'score' , y = 'features', orient = 'h' , data = dfs[1][:15])"
   ]
  },
  {
   "cell_type": "code",
   "execution_count": 15,
   "metadata": {},
   "outputs": [
    {
     "data": {
      "image/png": "[encoded data removed]",
      "text/plain": [
       "<Figure size 1008x864 with 1 Axes>"
      ]
     },
     "metadata": {
      "needs_background": "light"
     },
     "output_type": "display_data"
    }
   ],
   "source": [
    "def plot_features(dfs):\n",
    "    fig = plt.figure(figsize=(14,12))\n",
    "    x = np.arange(len(dfs[0]))\n",
    "    for i, df in enumerate(dfs):\n",
    "        ax = fig.add_subplot(1, len(dfs), i+1)\n",
    "        ax.set_title(\"Cluster: \"+ str(i), fontsize = 14)\n",
    "        ax.spines[\"top\"].set_visible(False)\n",
    "        ax.spines[\"right\"].set_visible(False)\n",
    "        ax.set_frame_on(False)\n",
    "        ax.get_xaxis().tick_bottom()\n",
    "        ax.get_yaxis().tick_left()\n",
    "        ax.ticklabel_format(axis='x', style='sci', scilimits=(-2,2))\n",
    "        ax.barh(x, df.score, align='center', color='#40826d')\n",
    "        yticks = ax.set_yticklabels(df.features)\n",
    "    plt.show();\n",
    "plot_features(dfs)"
   ]
  }
 ],
 "metadata": {
  "kernelspec": {
   "display_name": "Python 3",
   "language": "python",
   "name": "python3"
  },
  "language_info": {
   "codemirror_mode": {
    "name": "ipython",
    "version": 3
   },
   "file_extension": ".py",
   "mimetype": "text/x-python",
   "name": "python",
   "nbconvert_exporter": "python",
   "pygments_lexer": "ipython3",
   "version": "3.8.5"
  }
 },
 "nbformat": 4,
 "nbformat_minor": 4
}
