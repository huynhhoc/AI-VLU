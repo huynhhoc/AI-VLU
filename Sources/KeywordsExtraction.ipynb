{
  "nbformat": 4,
  "nbformat_minor": 0,
  "metadata": {
    "colab": {
      "name": "KeywordExtraction.ipynb",
      "provenance": [],
      "toc_visible": true,
      "authorship_tag": "ABX9TyOKE7d+7W6Hy2XP7HVEc9Wa",
      "include_colab_link": true
    },
    "kernelspec": {
      "name": "python3",
      "display_name": "Python 3"
    },
    "language_info": {
      "name": "python"
    }
  },
  "cells": [
    {
      "cell_type": "markdown",
      "metadata": {
        "id": "view-in-github",
        "colab_type": "text"
      },
      "source": [
        "<a href=\"https://colab.research.google.com/github/huynhhoc/AI-VLU/blob/main/Sources/KeywordsExtraction.ipynb\" target=\"_parent\"><img src=\"https://colab.research.google.com/assets/colab-badge.svg\" alt=\"Open In Colab\"/></a>"
      ]
    },
    {
      "cell_type": "markdown",
      "metadata": {
        "id": "LenwicNHzW3H"
      },
      "source": [
        "Extracting Keywords with TF-IDF and Python’s Scikit-Learn\n",
        "TF-IDF can be used for a wide range of tasks including:\n",
        "1. text classification\n",
        "2. clustering / topic-modeling\n",
        "3. search\n",
        "4. keyword extraction and a whole lot more\n",
        "Source: https://kavita-ganesan.com/extracting-keywords-from-text-tfidf/#.YRuOZ4gzbIU"
      ]
    },
    {
      "cell_type": "markdown",
      "metadata": {
        "id": "SOOjntp3ystd"
      },
      "source": [
        "**Dataset**\n",
        "We will be using two files, one file, stackoverflow-data-idf.json has 20,000 posts and is used to compute the Inverse Document Frequency (IDF) and another file, stackoverflow-test.json has 500 posts and we would use that as a test set for us to extract keywords from. This dataset is based on the publicly available stack overflow dump from Google’s Big Query.\n",
        "https://www.kaggle.com/rowhitswami/nips-papers-1987-2019-updated/?select=authors.csv\n",
        "https://www.kaggle.com/rowhitswami/nips-papers-1987-2019-updated/?select=papers.csv"
      ]
    },
    {
      "cell_type": "markdown",
      "metadata": {
        "id": "fIx_ip7nzT_8"
      },
      "source": [
        ""
      ]
    },
    {
      "cell_type": "code",
      "metadata": {
        "id": "EEB2ASv3pSoB"
      },
      "source": [
        "# Printing data files\n",
        "import pandas as pd # data processing, CSV file I/O (e.g. pd.read_csv)\n",
        "import os\n",
        "import requests"
      ],
      "execution_count": 55,
      "outputs": []
    },
    {
      "cell_type": "code",
      "metadata": {
        "id": "WyS0ke9r9Ktz"
      },
      "source": [
        "# General libraries\n",
        "import re, os, string\n",
        "import pandas as pd\n",
        "\n",
        "# Scikit-learn importings\n",
        "from sklearn.feature_extraction.text import TfidfVectorizer"
      ],
      "execution_count": 56,
      "outputs": []
    },
    {
      "cell_type": "code",
      "metadata": {
        "id": "Fp4S19G19Nsb"
      },
      "source": [
        "def get_stopwords_list(stop_file_path):\n",
        "    \"\"\"load stop words \"\"\"\n",
        "    stopwords = requests.get(stop_file_path)\n",
        "    stop_set = set(m.strip() for m in stopwords)\n",
        "    return list(frozenset(stop_set))"
      ],
      "execution_count": 57,
      "outputs": []
    },
    {
      "cell_type": "code",
      "metadata": {
        "id": "I8ohTB1R9SFC"
      },
      "source": [
        "def clean_text(text):\n",
        "    \"\"\"Doc cleaning\"\"\"\n",
        "    \n",
        "    # Lowering text\n",
        "    text = text.lower()\n",
        "    \n",
        "    # Removing punctuation\n",
        "    text = \"\".join([c for c in text if c not in PUNCTUATION])\n",
        "    \n",
        "    # Removing whitespace and newlines\n",
        "    text = re.sub('\\s+',' ',text)\n",
        "    \n",
        "    return text"
      ],
      "execution_count": 58,
      "outputs": []
    },
    {
      "cell_type": "code",
      "metadata": {
        "id": "6eium1UQ9Vg4"
      },
      "source": [
        "def sort_coo(coo_matrix):\n",
        "    \"\"\"Sort a dict with highest score\"\"\"\n",
        "    tuples = zip(coo_matrix.col, coo_matrix.data)\n",
        "    return sorted(tuples, key=lambda x: (x[1], x[0]), reverse=True)"
      ],
      "execution_count": 59,
      "outputs": []
    },
    {
      "cell_type": "code",
      "metadata": {
        "id": "On7UJ4nP9YVZ"
      },
      "source": [
        "def extract_topn_from_vector(feature_names, sorted_items, topn=10):\n",
        "    \"\"\"get the feature names and tf-idf score of top n items\"\"\"\n",
        "    \n",
        "    #use only topn items from vector\n",
        "    sorted_items = sorted_items[:topn]\n",
        "\n",
        "    score_vals = []\n",
        "    feature_vals = []\n",
        "    \n",
        "    # word index and corresponding tf-idf score\n",
        "    for idx, score in sorted_items:\n",
        "        \n",
        "        #keep track of feature name and its corresponding score\n",
        "        score_vals.append(round(score, 3))\n",
        "        feature_vals.append(feature_names[idx])\n",
        "\n",
        "    #create a tuples of feature, score\n",
        "    results= {}\n",
        "    for idx in range(len(feature_vals)):\n",
        "        results[feature_vals[idx]]=score_vals[idx]\n",
        "    \n",
        "    return results"
      ],
      "execution_count": 60,
      "outputs": []
    },
    {
      "cell_type": "code",
      "metadata": {
        "id": "QK18JExg9dbn"
      },
      "source": [
        "def get_keywords(vectorizer, feature_names, doc):\n",
        "    \"\"\"Return top k keywords from a doc using TF-IDF method\"\"\"\n",
        "\n",
        "    #generate tf-idf for the given document\n",
        "    tf_idf_vector = vectorizer.transform([doc])\n",
        "    \n",
        "    #sort the tf-idf vectors by descending order of scores\n",
        "    sorted_items=sort_coo(tf_idf_vector.tocoo())\n",
        "\n",
        "    #extract only TOP_K_KEYWORDS\n",
        "    keywords=extract_topn_from_vector(feature_names,sorted_items,TOP_K_KEYWORDS)\n",
        "    \n",
        "    return list(keywords.keys())"
      ],
      "execution_count": 61,
      "outputs": []
    },
    {
      "cell_type": "code",
      "metadata": {
        "id": "NAzfbj2o9gRQ"
      },
      "source": [
        "# Constants\n",
        "PUNCTUATION = \"\"\"!\"#$%&'()*+,-./:;<=>?@[\\]^_`{|}~\"\"\" \n",
        "TOP_K_KEYWORDS = 10 # top k number of keywords to retrieve in a ranked document\n",
        "STOPWORD_PATH = \"https://raw.githubusercontent.com/huynhhoc/AI-VLU/main/resources/stopwords.txt\"\n",
        "PAPERS_PATH = \"https://raw.githubusercontent.com/huynhhoc/AI-VLU/main/Data/papers.csv\""
      ],
      "execution_count": 62,
      "outputs": []
    },
    {
      "cell_type": "code",
      "metadata": {
        "colab": {
          "base_uri": "https://localhost:8080/",
          "height": 204
        },
        "id": "T3oZo2eZ9k2M",
        "outputId": "5cc5b0a2-f049-4267-8c5f-f1965881c621"
      },
      "source": [
        "data = pd.read_csv(PAPERS_PATH)\n",
        "data.head()"
      ],
      "execution_count": 63,
      "outputs": [
        {
          "output_type": "execute_result",
          "data": {
            "text/html": [
              "<div>\n",
              "<style scoped>\n",
              "    .dataframe tbody tr th:only-of-type {\n",
              "        vertical-align: middle;\n",
              "    }\n",
              "\n",
              "    .dataframe tbody tr th {\n",
              "        vertical-align: top;\n",
              "    }\n",
              "\n",
              "    .dataframe thead th {\n",
              "        text-align: right;\n",
              "    }\n",
              "</style>\n",
              "<table border=\"1\" class=\"dataframe\">\n",
              "  <thead>\n",
              "    <tr style=\"text-align: right;\">\n",
              "      <th></th>\n",
              "      <th>source_id</th>\n",
              "      <th>year</th>\n",
              "      <th>title</th>\n",
              "      <th>abstract</th>\n",
              "      <th>full_text</th>\n",
              "    </tr>\n",
              "  </thead>\n",
              "  <tbody>\n",
              "    <tr>\n",
              "      <th>0</th>\n",
              "      <td>27</td>\n",
              "      <td>1987</td>\n",
              "      <td>Bit-Serial Neural Networks</td>\n",
              "      <td>NaN</td>\n",
              "      <td>573 \\n\\nBIT - SERIAL NEURAL  NETWORKS \\n\\nAlan...</td>\n",
              "    </tr>\n",
              "    <tr>\n",
              "      <th>1</th>\n",
              "      <td>63</td>\n",
              "      <td>1987</td>\n",
              "      <td>Connectivity Versus Entropy</td>\n",
              "      <td>NaN</td>\n",
              "      <td>1 \\n\\nCONNECTIVITY VERSUS ENTROPY \\n\\nYaser  S...</td>\n",
              "    </tr>\n",
              "    <tr>\n",
              "      <th>2</th>\n",
              "      <td>60</td>\n",
              "      <td>1987</td>\n",
              "      <td>The Hopfield Model with Multi-Level Neurons</td>\n",
              "      <td>NaN</td>\n",
              "      <td>278 \\n\\nTHE HOPFIELD MODEL WITH MUL TI-LEVEL N...</td>\n",
              "    </tr>\n",
              "    <tr>\n",
              "      <th>3</th>\n",
              "      <td>59</td>\n",
              "      <td>1987</td>\n",
              "      <td>How Neural Nets Work</td>\n",
              "      <td>NaN</td>\n",
              "      <td>442 \\n\\nAlan  Lapedes \\nRobert  Farber \\n\\nThe...</td>\n",
              "    </tr>\n",
              "    <tr>\n",
              "      <th>4</th>\n",
              "      <td>69</td>\n",
              "      <td>1987</td>\n",
              "      <td>Spatial Organization of Neural Networks: A Pro...</td>\n",
              "      <td>NaN</td>\n",
              "      <td>740 \\n\\nSPATIAL  ORGANIZATION  OF  NEURAL  NEn...</td>\n",
              "    </tr>\n",
              "  </tbody>\n",
              "</table>\n",
              "</div>"
            ],
            "text/plain": [
              "   source_id  year  ... abstract                                          full_text\n",
              "0         27  1987  ...      NaN  573 \\n\\nBIT - SERIAL NEURAL  NETWORKS \\n\\nAlan...\n",
              "1         63  1987  ...      NaN  1 \\n\\nCONNECTIVITY VERSUS ENTROPY \\n\\nYaser  S...\n",
              "2         60  1987  ...      NaN  278 \\n\\nTHE HOPFIELD MODEL WITH MUL TI-LEVEL N...\n",
              "3         59  1987  ...      NaN  442 \\n\\nAlan  Lapedes \\nRobert  Farber \\n\\nThe...\n",
              "4         69  1987  ...      NaN  740 \\n\\nSPATIAL  ORGANIZATION  OF  NEURAL  NEn...\n",
              "\n",
              "[5 rows x 5 columns]"
            ]
          },
          "metadata": {},
          "execution_count": 63
        }
      ]
    },
    {
      "cell_type": "code",
      "metadata": {
        "id": "Fuu67VHitrB2"
      },
      "source": [
        "data.dropna(subset=['full_text'], inplace=True)"
      ],
      "execution_count": 64,
      "outputs": []
    },
    {
      "cell_type": "markdown",
      "metadata": {
        "id": "hHJbTnxptu64"
      },
      "source": [
        "# Preparing data"
      ]
    },
    {
      "cell_type": "code",
      "metadata": {
        "id": "iS1uBzaDtzBo"
      },
      "source": [
        "data['full_text'] = data['full_text'].apply(clean_text)"
      ],
      "execution_count": 65,
      "outputs": []
    },
    {
      "cell_type": "code",
      "metadata": {
        "colab": {
          "base_uri": "https://localhost:8080/",
          "height": 204
        },
        "id": "Rn0ogWOTt4CI",
        "outputId": "dbce4307-bc7e-45c2-ffb5-27842ec6038d"
      },
      "source": [
        "data.head()"
      ],
      "execution_count": 66,
      "outputs": [
        {
          "output_type": "execute_result",
          "data": {
            "text/html": [
              "<div>\n",
              "<style scoped>\n",
              "    .dataframe tbody tr th:only-of-type {\n",
              "        vertical-align: middle;\n",
              "    }\n",
              "\n",
              "    .dataframe tbody tr th {\n",
              "        vertical-align: top;\n",
              "    }\n",
              "\n",
              "    .dataframe thead th {\n",
              "        text-align: right;\n",
              "    }\n",
              "</style>\n",
              "<table border=\"1\" class=\"dataframe\">\n",
              "  <thead>\n",
              "    <tr style=\"text-align: right;\">\n",
              "      <th></th>\n",
              "      <th>source_id</th>\n",
              "      <th>year</th>\n",
              "      <th>title</th>\n",
              "      <th>abstract</th>\n",
              "      <th>full_text</th>\n",
              "    </tr>\n",
              "  </thead>\n",
              "  <tbody>\n",
              "    <tr>\n",
              "      <th>0</th>\n",
              "      <td>27</td>\n",
              "      <td>1987</td>\n",
              "      <td>Bit-Serial Neural Networks</td>\n",
              "      <td>NaN</td>\n",
              "      <td>573 bit serial neural networks alan f murray a...</td>\n",
              "    </tr>\n",
              "    <tr>\n",
              "      <th>1</th>\n",
              "      <td>63</td>\n",
              "      <td>1987</td>\n",
              "      <td>Connectivity Versus Entropy</td>\n",
              "      <td>NaN</td>\n",
              "      <td>1 connectivity versus entropy yaser s abumosta...</td>\n",
              "    </tr>\n",
              "    <tr>\n",
              "      <th>2</th>\n",
              "      <td>60</td>\n",
              "      <td>1987</td>\n",
              "      <td>The Hopfield Model with Multi-Level Neurons</td>\n",
              "      <td>NaN</td>\n",
              "      <td>278 the hopfield model with mul tilevel neuron...</td>\n",
              "    </tr>\n",
              "    <tr>\n",
              "      <th>3</th>\n",
              "      <td>59</td>\n",
              "      <td>1987</td>\n",
              "      <td>How Neural Nets Work</td>\n",
              "      <td>NaN</td>\n",
              "      <td>442 alan lapedes robert farber theoretical div...</td>\n",
              "    </tr>\n",
              "    <tr>\n",
              "      <th>4</th>\n",
              "      <td>69</td>\n",
              "      <td>1987</td>\n",
              "      <td>Spatial Organization of Neural Networks: A Pro...</td>\n",
              "      <td>NaN</td>\n",
              "      <td>740 spatial organization of neural nenorks a p...</td>\n",
              "    </tr>\n",
              "  </tbody>\n",
              "</table>\n",
              "</div>"
            ],
            "text/plain": [
              "   source_id  year  ... abstract                                          full_text\n",
              "0         27  1987  ...      NaN  573 bit serial neural networks alan f murray a...\n",
              "1         63  1987  ...      NaN  1 connectivity versus entropy yaser s abumosta...\n",
              "2         60  1987  ...      NaN  278 the hopfield model with mul tilevel neuron...\n",
              "3         59  1987  ...      NaN  442 alan lapedes robert farber theoretical div...\n",
              "4         69  1987  ...      NaN  740 spatial organization of neural nenorks a p...\n",
              "\n",
              "[5 rows x 5 columns]"
            ]
          },
          "metadata": {},
          "execution_count": 66
        }
      ]
    },
    {
      "cell_type": "code",
      "metadata": {
        "id": "iglr77Mrt6mZ"
      },
      "source": [
        "corpora = data['full_text'].to_list()"
      ],
      "execution_count": 67,
      "outputs": []
    },
    {
      "cell_type": "markdown",
      "metadata": {
        "id": "9yLbkZmCt9RZ"
      },
      "source": [
        "# Keywords Extraction using TF-IDF"
      ]
    },
    {
      "cell_type": "code",
      "metadata": {
        "id": "f42kY2lPt-x5"
      },
      "source": [
        "#load a set of stop words\n",
        "stopwords=get_stopwords_list(STOPWORD_PATH)\n",
        "\n",
        "# Initializing TF-IDF Vectorizer with stopwords\n",
        "vectorizer = TfidfVectorizer(stop_words=stopwords, smooth_idf=True, use_idf=True)\n",
        "\n",
        "# Creating vocab with our corpora\n",
        "# Exlcluding first 10 docs for testing purpose\n",
        "vectorizer.fit_transform(corpora[10::])\n",
        "\n",
        "# Storing vocab\n",
        "feature_names = vectorizer.get_feature_names()"
      ],
      "execution_count": 70,
      "outputs": []
    },
    {
      "cell_type": "code",
      "metadata": {
        "id": "gsBxHrjZx4g9"
      },
      "source": [
        ""
      ],
      "execution_count": null,
      "outputs": []
    },
    {
      "cell_type": "code",
      "metadata": {
        "id": "PCIXr2ngx403"
      },
      "source": [
        "#create a vocabulary of words, \n",
        "#ignore words that appear in 85% of documents, \n",
        "#eliminate stop words\n",
        "cv=CountVectorizer(max_df=0.85,stop_words=stopwords)\n",
        "word_count_vector=cv.fit_transform(corpora)\n"
      ],
      "execution_count": null,
      "outputs": []
    },
    {
      "cell_type": "code",
      "metadata": {
        "id": "Tcx2SdoPyH7k"
      },
      "source": [
        "from sklearn.feature_extraction.text import TfidfTransformer\n",
        "\n",
        "tfidf_transformer=TfidfTransformer(smooth_idf=True,use_idf=True)\n",
        "tfidf_transformer.fit(word_count_vector)"
      ],
      "execution_count": null,
      "outputs": []
    },
    {
      "cell_type": "markdown",
      "metadata": {
        "id": "Cf_ma9nZumQJ"
      },
      "source": [
        "# Result 🔥"
      ]
    },
    {
      "cell_type": "code",
      "metadata": {
        "colab": {
          "base_uri": "https://localhost:8080/",
          "height": 359
        },
        "id": "0AzQLKg6uojx",
        "outputId": "7049bb6d-3d3a-48d7-8a5b-4e63efe27276"
      },
      "source": [
        "result = []\n",
        "for doc in corpora[0:10]:\n",
        "    df = {}\n",
        "    df['full_text'] = doc\n",
        "    df['top_keywords'] = get_keywords(vectorizer, feature_names, doc)\n",
        "    result.append(df)\n",
        "    \n",
        "final = pd.DataFrame(result)\n",
        "final"
      ],
      "execution_count": 71,
      "outputs": [
        {
          "output_type": "execute_result",
          "data": {
            "text/html": [
              "<div>\n",
              "<style scoped>\n",
              "    .dataframe tbody tr th:only-of-type {\n",
              "        vertical-align: middle;\n",
              "    }\n",
              "\n",
              "    .dataframe tbody tr th {\n",
              "        vertical-align: top;\n",
              "    }\n",
              "\n",
              "    .dataframe thead th {\n",
              "        text-align: right;\n",
              "    }\n",
              "</style>\n",
              "<table border=\"1\" class=\"dataframe\">\n",
              "  <thead>\n",
              "    <tr style=\"text-align: right;\">\n",
              "      <th></th>\n",
              "      <th>full_text</th>\n",
              "      <th>top_keywords</th>\n",
              "    </tr>\n",
              "  </thead>\n",
              "  <tbody>\n",
              "    <tr>\n",
              "      <th>0</th>\n",
              "      <td>573 bit serial neural networks alan f murray a...</td>\n",
              "      <td>[the, and, of, to, is, synaptic, bit, state, a...</td>\n",
              "    </tr>\n",
              "    <tr>\n",
              "      <th>1</th>\n",
              "      <td>1 connectivity versus entropy yaser s abumosta...</td>\n",
              "      <td>[the, v2, 2n, of, h2, 2k, environment, to, is,...</td>\n",
              "    </tr>\n",
              "    <tr>\n",
              "      <th>2</th>\n",
              "      <td>278 the hopfield model with mul tilevel neuron...</td>\n",
              "      <td>[the, of, is, qnn, neurons, in, hopfields, cap...</td>\n",
              "    </tr>\n",
              "    <tr>\n",
              "      <th>3</th>\n",
              "      <td>442 alan lapedes robert farber theoretical div...</td>\n",
              "      <td>[the, of, to, is, in, and, bumps, eqn, bump, net]</td>\n",
              "    </tr>\n",
              "    <tr>\n",
              "      <th>4</th>\n",
              "      <td>740 spatial organization of neural nenorks a p...</td>\n",
              "      <td>[the, of, queueing, in, network, and, stimulat...</td>\n",
              "    </tr>\n",
              "    <tr>\n",
              "      <th>5</th>\n",
              "      <td>775 a neuralnetwork solution to the concentrat...</td>\n",
              "      <td>[the, of, to, sites, assignment, site, and, in...</td>\n",
              "    </tr>\n",
              "    <tr>\n",
              "      <th>6</th>\n",
              "      <td>642 learning by st ate recurrence detecfion br...</td>\n",
              "      <td>[the, recurrence, failure, of, to, aseace, sta...</td>\n",
              "    </tr>\n",
              "    <tr>\n",
              "      <th>7</th>\n",
              "      <td>554 stability results for neural networks a n ...</td>\n",
              "      <td>[the, of, equilibrium, in, and, stability, for...</td>\n",
              "    </tr>\n",
              "    <tr>\n",
              "      <th>8</th>\n",
              "      <td>804 introduction to a system for implementing ...</td>\n",
              "      <td>[the, of, processors, processor, is, to, paths...</td>\n",
              "    </tr>\n",
              "    <tr>\n",
              "      <th>9</th>\n",
              "      <td>474 optimiza non with artificial neural networ...</td>\n",
              "      <td>[the, dipole, of, to, eq, for, and, settling, ...</td>\n",
              "    </tr>\n",
              "  </tbody>\n",
              "</table>\n",
              "</div>"
            ],
            "text/plain": [
              "                                           full_text                                       top_keywords\n",
              "0  573 bit serial neural networks alan f murray a...  [the, and, of, to, is, synaptic, bit, state, a...\n",
              "1  1 connectivity versus entropy yaser s abumosta...  [the, v2, 2n, of, h2, 2k, environment, to, is,...\n",
              "2  278 the hopfield model with mul tilevel neuron...  [the, of, is, qnn, neurons, in, hopfields, cap...\n",
              "3  442 alan lapedes robert farber theoretical div...  [the, of, to, is, in, and, bumps, eqn, bump, net]\n",
              "4  740 spatial organization of neural nenorks a p...  [the, of, queueing, in, network, and, stimulat...\n",
              "5  775 a neuralnetwork solution to the concentrat...  [the, of, to, sites, assignment, site, and, in...\n",
              "6  642 learning by st ate recurrence detecfion br...  [the, recurrence, failure, of, to, aseace, sta...\n",
              "7  554 stability results for neural networks a n ...  [the, of, equilibrium, in, and, stability, for...\n",
              "8  804 introduction to a system for implementing ...  [the, of, processors, processor, is, to, paths...\n",
              "9  474 optimiza non with artificial neural networ...  [the, dipole, of, to, eq, for, and, settling, ..."
            ]
          },
          "metadata": {},
          "execution_count": 71
        }
      ]
    }
  ]
}